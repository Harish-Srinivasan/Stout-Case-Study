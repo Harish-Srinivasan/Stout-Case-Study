{
 "cells": [
  {
   "cell_type": "code",
   "execution_count": 1,
   "id": "b445e756",
   "metadata": {},
   "outputs": [],
   "source": [
    "import pandas as pd\n",
    "import numpy as np"
   ]
  },
  {
   "cell_type": "code",
   "execution_count": 2,
   "id": "b6591ce2",
   "metadata": {},
   "outputs": [],
   "source": [
    "CustOrders = pd.read_csv('/Users/harishsrinivasan/Downloads/stout/casestudy.csv')"
   ]
  },
  {
   "cell_type": "code",
   "execution_count": 3,
   "id": "a2631420",
   "metadata": {},
   "outputs": [
    {
     "data": {
      "text/html": [
       "<div>\n",
       "<style scoped>\n",
       "    .dataframe tbody tr th:only-of-type {\n",
       "        vertical-align: middle;\n",
       "    }\n",
       "\n",
       "    .dataframe tbody tr th {\n",
       "        vertical-align: top;\n",
       "    }\n",
       "\n",
       "    .dataframe thead th {\n",
       "        text-align: right;\n",
       "    }\n",
       "</style>\n",
       "<table border=\"1\" class=\"dataframe\">\n",
       "  <thead>\n",
       "    <tr style=\"text-align: right;\">\n",
       "      <th></th>\n",
       "      <th>Unnamed: 0</th>\n",
       "      <th>customer_email</th>\n",
       "      <th>net_revenue</th>\n",
       "      <th>year</th>\n",
       "    </tr>\n",
       "  </thead>\n",
       "  <tbody>\n",
       "    <tr>\n",
       "      <th>0</th>\n",
       "      <td>0</td>\n",
       "      <td>nhknapwsbx@gmail.com</td>\n",
       "      <td>249.92</td>\n",
       "      <td>2015</td>\n",
       "    </tr>\n",
       "    <tr>\n",
       "      <th>1</th>\n",
       "      <td>1</td>\n",
       "      <td>joiuzbvcpn@gmail.com</td>\n",
       "      <td>87.61</td>\n",
       "      <td>2015</td>\n",
       "    </tr>\n",
       "    <tr>\n",
       "      <th>2</th>\n",
       "      <td>2</td>\n",
       "      <td>ukkjctepxt@gmail.com</td>\n",
       "      <td>168.38</td>\n",
       "      <td>2015</td>\n",
       "    </tr>\n",
       "    <tr>\n",
       "      <th>3</th>\n",
       "      <td>3</td>\n",
       "      <td>gykatilzrt@gmail.com</td>\n",
       "      <td>62.40</td>\n",
       "      <td>2015</td>\n",
       "    </tr>\n",
       "    <tr>\n",
       "      <th>4</th>\n",
       "      <td>4</td>\n",
       "      <td>mmsgsrtxah@gmail.com</td>\n",
       "      <td>43.08</td>\n",
       "      <td>2015</td>\n",
       "    </tr>\n",
       "  </tbody>\n",
       "</table>\n",
       "</div>"
      ],
      "text/plain": [
       "   Unnamed: 0         customer_email  net_revenue  year\n",
       "0           0   nhknapwsbx@gmail.com       249.92  2015\n",
       "1           1   joiuzbvcpn@gmail.com        87.61  2015\n",
       "2           2   ukkjctepxt@gmail.com       168.38  2015\n",
       "3           3   gykatilzrt@gmail.com        62.40  2015\n",
       "4           4   mmsgsrtxah@gmail.com        43.08  2015"
      ]
     },
     "execution_count": 3,
     "metadata": {},
     "output_type": "execute_result"
    }
   ],
   "source": [
    "CustOrders.head()"
   ]
  },
  {
   "cell_type": "code",
   "execution_count": 109,
   "id": "94aac553",
   "metadata": {},
   "outputs": [
    {
     "data": {
      "text/html": [
       "<div>\n",
       "<style scoped>\n",
       "    .dataframe tbody tr th:only-of-type {\n",
       "        vertical-align: middle;\n",
       "    }\n",
       "\n",
       "    .dataframe tbody tr th {\n",
       "        vertical-align: top;\n",
       "    }\n",
       "\n",
       "    .dataframe thead th {\n",
       "        text-align: right;\n",
       "    }\n",
       "</style>\n",
       "<table border=\"1\" class=\"dataframe\">\n",
       "  <thead>\n",
       "    <tr style=\"text-align: right;\">\n",
       "      <th></th>\n",
       "      <th>Unnamed: 0</th>\n",
       "      <th>customer_email</th>\n",
       "      <th>net_revenue</th>\n",
       "      <th>year</th>\n",
       "    </tr>\n",
       "  </thead>\n",
       "  <tbody>\n",
       "    <tr>\n",
       "      <th>0</th>\n",
       "      <td>0</td>\n",
       "      <td>nhknapwsbx@gmail.com</td>\n",
       "      <td>249.92</td>\n",
       "      <td>2015</td>\n",
       "    </tr>\n",
       "    <tr>\n",
       "      <th>1</th>\n",
       "      <td>1</td>\n",
       "      <td>joiuzbvcpn@gmail.com</td>\n",
       "      <td>87.61</td>\n",
       "      <td>2015</td>\n",
       "    </tr>\n",
       "    <tr>\n",
       "      <th>2</th>\n",
       "      <td>2</td>\n",
       "      <td>ukkjctepxt@gmail.com</td>\n",
       "      <td>168.38</td>\n",
       "      <td>2015</td>\n",
       "    </tr>\n",
       "    <tr>\n",
       "      <th>3</th>\n",
       "      <td>3</td>\n",
       "      <td>gykatilzrt@gmail.com</td>\n",
       "      <td>62.40</td>\n",
       "      <td>2015</td>\n",
       "    </tr>\n",
       "    <tr>\n",
       "      <th>4</th>\n",
       "      <td>4</td>\n",
       "      <td>mmsgsrtxah@gmail.com</td>\n",
       "      <td>43.08</td>\n",
       "      <td>2015</td>\n",
       "    </tr>\n",
       "    <tr>\n",
       "      <th>...</th>\n",
       "      <td>...</td>\n",
       "      <td>...</td>\n",
       "      <td>...</td>\n",
       "      <td>...</td>\n",
       "    </tr>\n",
       "    <tr>\n",
       "      <th>685922</th>\n",
       "      <td>685922</td>\n",
       "      <td>qzqttwiftu@gmail.com</td>\n",
       "      <td>184.58</td>\n",
       "      <td>2017</td>\n",
       "    </tr>\n",
       "    <tr>\n",
       "      <th>685923</th>\n",
       "      <td>685923</td>\n",
       "      <td>pjodiifjop@gmail.com</td>\n",
       "      <td>133.03</td>\n",
       "      <td>2017</td>\n",
       "    </tr>\n",
       "    <tr>\n",
       "      <th>685924</th>\n",
       "      <td>685924</td>\n",
       "      <td>appaplmgko@gmail.com</td>\n",
       "      <td>200.98</td>\n",
       "      <td>2017</td>\n",
       "    </tr>\n",
       "    <tr>\n",
       "      <th>685925</th>\n",
       "      <td>685925</td>\n",
       "      <td>wvkpmwsgck@gmail.com</td>\n",
       "      <td>235.35</td>\n",
       "      <td>2017</td>\n",
       "    </tr>\n",
       "    <tr>\n",
       "      <th>685926</th>\n",
       "      <td>685926</td>\n",
       "      <td>aregboumbw@gmail.com</td>\n",
       "      <td>208.43</td>\n",
       "      <td>2017</td>\n",
       "    </tr>\n",
       "  </tbody>\n",
       "</table>\n",
       "<p>685927 rows × 4 columns</p>\n",
       "</div>"
      ],
      "text/plain": [
       "        Unnamed: 0         customer_email  net_revenue  year\n",
       "0                0   nhknapwsbx@gmail.com       249.92  2015\n",
       "1                1   joiuzbvcpn@gmail.com        87.61  2015\n",
       "2                2   ukkjctepxt@gmail.com       168.38  2015\n",
       "3                3   gykatilzrt@gmail.com        62.40  2015\n",
       "4                4   mmsgsrtxah@gmail.com        43.08  2015\n",
       "...            ...                    ...          ...   ...\n",
       "685922      685922   qzqttwiftu@gmail.com       184.58  2017\n",
       "685923      685923   pjodiifjop@gmail.com       133.03  2017\n",
       "685924      685924   appaplmgko@gmail.com       200.98  2017\n",
       "685925      685925   wvkpmwsgck@gmail.com       235.35  2017\n",
       "685926      685926   aregboumbw@gmail.com       208.43  2017\n",
       "\n",
       "[685927 rows x 4 columns]"
      ]
     },
     "execution_count": 109,
     "metadata": {},
     "output_type": "execute_result"
    }
   ],
   "source": [
    "CustOrders"
   ]
  },
  {
   "cell_type": "code",
   "execution_count": 4,
   "id": "4fc298e6",
   "metadata": {},
   "outputs": [
    {
     "data": {
      "text/html": [
       "<div>\n",
       "<style scoped>\n",
       "    .dataframe tbody tr th:only-of-type {\n",
       "        vertical-align: middle;\n",
       "    }\n",
       "\n",
       "    .dataframe tbody tr th {\n",
       "        vertical-align: top;\n",
       "    }\n",
       "\n",
       "    .dataframe thead th {\n",
       "        text-align: right;\n",
       "    }\n",
       "</style>\n",
       "<table border=\"1\" class=\"dataframe\">\n",
       "  <thead>\n",
       "    <tr style=\"text-align: right;\">\n",
       "      <th></th>\n",
       "      <th>Unnamed: 0</th>\n",
       "      <th>net_revenue</th>\n",
       "      <th>year</th>\n",
       "    </tr>\n",
       "  </thead>\n",
       "  <tbody>\n",
       "    <tr>\n",
       "      <th>count</th>\n",
       "      <td>685927.000000</td>\n",
       "      <td>685927.000000</td>\n",
       "      <td>685927.000000</td>\n",
       "    </tr>\n",
       "    <tr>\n",
       "      <th>mean</th>\n",
       "      <td>342963.000000</td>\n",
       "      <td>125.647755</td>\n",
       "      <td>2016.027252</td>\n",
       "    </tr>\n",
       "    <tr>\n",
       "      <th>std</th>\n",
       "      <td>198010.213385</td>\n",
       "      <td>71.854528</td>\n",
       "      <td>0.837203</td>\n",
       "    </tr>\n",
       "    <tr>\n",
       "      <th>min</th>\n",
       "      <td>0.000000</td>\n",
       "      <td>1.000000</td>\n",
       "      <td>2015.000000</td>\n",
       "    </tr>\n",
       "    <tr>\n",
       "      <th>25%</th>\n",
       "      <td>171481.500000</td>\n",
       "      <td>63.510000</td>\n",
       "      <td>2015.000000</td>\n",
       "    </tr>\n",
       "    <tr>\n",
       "      <th>50%</th>\n",
       "      <td>342963.000000</td>\n",
       "      <td>125.730000</td>\n",
       "      <td>2016.000000</td>\n",
       "    </tr>\n",
       "    <tr>\n",
       "      <th>75%</th>\n",
       "      <td>514444.500000</td>\n",
       "      <td>187.820000</td>\n",
       "      <td>2017.000000</td>\n",
       "    </tr>\n",
       "    <tr>\n",
       "      <th>max</th>\n",
       "      <td>685926.000000</td>\n",
       "      <td>250.000000</td>\n",
       "      <td>2017.000000</td>\n",
       "    </tr>\n",
       "  </tbody>\n",
       "</table>\n",
       "</div>"
      ],
      "text/plain": [
       "          Unnamed: 0    net_revenue           year\n",
       "count  685927.000000  685927.000000  685927.000000\n",
       "mean   342963.000000     125.647755    2016.027252\n",
       "std    198010.213385      71.854528       0.837203\n",
       "min         0.000000       1.000000    2015.000000\n",
       "25%    171481.500000      63.510000    2015.000000\n",
       "50%    342963.000000     125.730000    2016.000000\n",
       "75%    514444.500000     187.820000    2017.000000\n",
       "max    685926.000000     250.000000    2017.000000"
      ]
     },
     "execution_count": 4,
     "metadata": {},
     "output_type": "execute_result"
    }
   ],
   "source": [
    "CustOrders.describe()"
   ]
  },
  {
   "cell_type": "markdown",
   "id": "1f04ef06",
   "metadata": {},
   "source": [
    "## Total Revenue for current year"
   ]
  },
  {
   "cell_type": "code",
   "execution_count": 5,
   "id": "666cc34f",
   "metadata": {},
   "outputs": [],
   "source": [
    "CustOrders2015 = CustOrders[CustOrders['year']==2015]\n",
    "CustOrders2016 = CustOrders[CustOrders['year']==2016]\n",
    "CustOrders2017 = CustOrders[CustOrders['year']==2017]"
   ]
  },
  {
   "cell_type": "code",
   "execution_count": 8,
   "id": "b6613403",
   "metadata": {},
   "outputs": [
    {
     "data": {
      "text/html": [
       "<div>\n",
       "<style scoped>\n",
       "    .dataframe tbody tr th:only-of-type {\n",
       "        vertical-align: middle;\n",
       "    }\n",
       "\n",
       "    .dataframe tbody tr th {\n",
       "        vertical-align: top;\n",
       "    }\n",
       "\n",
       "    .dataframe thead th {\n",
       "        text-align: right;\n",
       "    }\n",
       "</style>\n",
       "<table border=\"1\" class=\"dataframe\">\n",
       "  <thead>\n",
       "    <tr style=\"text-align: right;\">\n",
       "      <th></th>\n",
       "      <th>Unnamed: 0</th>\n",
       "      <th>customer_email</th>\n",
       "      <th>net_revenue</th>\n",
       "      <th>year</th>\n",
       "    </tr>\n",
       "  </thead>\n",
       "  <tbody>\n",
       "    <tr>\n",
       "      <th>435940</th>\n",
       "      <td>435940</td>\n",
       "      <td>mwrossuukz@gmail.com</td>\n",
       "      <td>96.61</td>\n",
       "      <td>2017</td>\n",
       "    </tr>\n",
       "    <tr>\n",
       "      <th>435941</th>\n",
       "      <td>435941</td>\n",
       "      <td>qvjfterwnk@gmail.com</td>\n",
       "      <td>176.00</td>\n",
       "      <td>2017</td>\n",
       "    </tr>\n",
       "    <tr>\n",
       "      <th>435942</th>\n",
       "      <td>435942</td>\n",
       "      <td>vlyigtgfzs@gmail.com</td>\n",
       "      <td>73.47</td>\n",
       "      <td>2017</td>\n",
       "    </tr>\n",
       "    <tr>\n",
       "      <th>435943</th>\n",
       "      <td>435943</td>\n",
       "      <td>yfirychuhk@gmail.com</td>\n",
       "      <td>138.17</td>\n",
       "      <td>2017</td>\n",
       "    </tr>\n",
       "    <tr>\n",
       "      <th>435944</th>\n",
       "      <td>435944</td>\n",
       "      <td>fdkiioqtli@gmail.com</td>\n",
       "      <td>156.87</td>\n",
       "      <td>2017</td>\n",
       "    </tr>\n",
       "    <tr>\n",
       "      <th>...</th>\n",
       "      <td>...</td>\n",
       "      <td>...</td>\n",
       "      <td>...</td>\n",
       "      <td>...</td>\n",
       "    </tr>\n",
       "    <tr>\n",
       "      <th>685922</th>\n",
       "      <td>685922</td>\n",
       "      <td>qzqttwiftu@gmail.com</td>\n",
       "      <td>184.58</td>\n",
       "      <td>2017</td>\n",
       "    </tr>\n",
       "    <tr>\n",
       "      <th>685923</th>\n",
       "      <td>685923</td>\n",
       "      <td>pjodiifjop@gmail.com</td>\n",
       "      <td>133.03</td>\n",
       "      <td>2017</td>\n",
       "    </tr>\n",
       "    <tr>\n",
       "      <th>685924</th>\n",
       "      <td>685924</td>\n",
       "      <td>appaplmgko@gmail.com</td>\n",
       "      <td>200.98</td>\n",
       "      <td>2017</td>\n",
       "    </tr>\n",
       "    <tr>\n",
       "      <th>685925</th>\n",
       "      <td>685925</td>\n",
       "      <td>wvkpmwsgck@gmail.com</td>\n",
       "      <td>235.35</td>\n",
       "      <td>2017</td>\n",
       "    </tr>\n",
       "    <tr>\n",
       "      <th>685926</th>\n",
       "      <td>685926</td>\n",
       "      <td>aregboumbw@gmail.com</td>\n",
       "      <td>208.43</td>\n",
       "      <td>2017</td>\n",
       "    </tr>\n",
       "  </tbody>\n",
       "</table>\n",
       "<p>249987 rows × 4 columns</p>\n",
       "</div>"
      ],
      "text/plain": [
       "        Unnamed: 0         customer_email  net_revenue  year\n",
       "435940      435940   mwrossuukz@gmail.com        96.61  2017\n",
       "435941      435941  qvjfterwnk@gmail.com        176.00  2017\n",
       "435942      435942   vlyigtgfzs@gmail.com        73.47  2017\n",
       "435943      435943   yfirychuhk@gmail.com       138.17  2017\n",
       "435944      435944   fdkiioqtli@gmail.com       156.87  2017\n",
       "...            ...                    ...          ...   ...\n",
       "685922      685922   qzqttwiftu@gmail.com       184.58  2017\n",
       "685923      685923   pjodiifjop@gmail.com       133.03  2017\n",
       "685924      685924   appaplmgko@gmail.com       200.98  2017\n",
       "685925      685925   wvkpmwsgck@gmail.com       235.35  2017\n",
       "685926      685926   aregboumbw@gmail.com       208.43  2017\n",
       "\n",
       "[249987 rows x 4 columns]"
      ]
     },
     "execution_count": 8,
     "metadata": {},
     "output_type": "execute_result"
    }
   ],
   "source": [
    "CustOrders2017"
   ]
  },
  {
   "cell_type": "code",
   "execution_count": 9,
   "id": "7600a5e6",
   "metadata": {},
   "outputs": [],
   "source": [
    "TotRev2015 = CustOrders2015['net_revenue'].sum()\n",
    "TotRev2016 = CustOrders2016['net_revenue'].sum()\n",
    "TotRev2017 = CustOrders2017['net_revenue'].sum()"
   ]
  },
  {
   "cell_type": "code",
   "execution_count": 11,
   "id": "f1f7ee1b",
   "metadata": {},
   "outputs": [],
   "source": [
    "Revenue = [TotRev2015,TotRev2016,TotRev2017]\n",
    "RevenueYear = ['2015', '2016', '2017']"
   ]
  },
  {
   "cell_type": "code",
   "execution_count": 12,
   "id": "a04aff48",
   "metadata": {},
   "outputs": [
    {
     "name": "stdout",
     "output_type": "stream",
     "text": [
      "Total revenue for the current year: 31417495.030000016\n"
     ]
    }
   ],
   "source": [
    "print(\"Total revenue for the current year: \" + str(TotRev2017))"
   ]
  },
  {
   "cell_type": "markdown",
   "id": "5d56a7b9",
   "metadata": {},
   "source": [
    "## New Customer Revenue"
   ]
  },
  {
   "cell_type": "code",
   "execution_count": 13,
   "id": "77b358f1",
   "metadata": {},
   "outputs": [],
   "source": [
    "NewCustOrders2016 = pd.merge(CustOrders2015, CustOrders2016, on='customer_email', how='outer',indicator=True)\n",
    "NewCustOrders2016 = NewCustOrders2016[NewCustOrders2016['year_y']==2016]\n",
    "NewCustOrders2016 = NewCustOrders2016[NewCustOrders2016['year_x'].isna()]\n",
    "NewCustRev2016 = NewCustOrders2016['net_revenue_y'].sum()"
   ]
  },
  {
   "cell_type": "code",
   "execution_count": 14,
   "id": "81d72196",
   "metadata": {},
   "outputs": [
    {
     "data": {
      "text/html": [
       "<div>\n",
       "<style scoped>\n",
       "    .dataframe tbody tr th:only-of-type {\n",
       "        vertical-align: middle;\n",
       "    }\n",
       "\n",
       "    .dataframe tbody tr th {\n",
       "        vertical-align: top;\n",
       "    }\n",
       "\n",
       "    .dataframe thead th {\n",
       "        text-align: right;\n",
       "    }\n",
       "</style>\n",
       "<table border=\"1\" class=\"dataframe\">\n",
       "  <thead>\n",
       "    <tr style=\"text-align: right;\">\n",
       "      <th></th>\n",
       "      <th>Unnamed: 0_x</th>\n",
       "      <th>customer_email</th>\n",
       "      <th>net_revenue_x</th>\n",
       "      <th>year_x</th>\n",
       "      <th>Unnamed: 0_y</th>\n",
       "      <th>net_revenue_y</th>\n",
       "      <th>year_y</th>\n",
       "      <th>_merge</th>\n",
       "    </tr>\n",
       "  </thead>\n",
       "  <tbody>\n",
       "    <tr>\n",
       "      <th>231294</th>\n",
       "      <td>NaN</td>\n",
       "      <td>mwrossuukz@gmail.com</td>\n",
       "      <td>NaN</td>\n",
       "      <td>NaN</td>\n",
       "      <td>231294.0</td>\n",
       "      <td>197.26</td>\n",
       "      <td>2016.0</td>\n",
       "      <td>right_only</td>\n",
       "    </tr>\n",
       "    <tr>\n",
       "      <th>231295</th>\n",
       "      <td>NaN</td>\n",
       "      <td>gkwsoupawk@gmail.com</td>\n",
       "      <td>NaN</td>\n",
       "      <td>NaN</td>\n",
       "      <td>231295.0</td>\n",
       "      <td>38.28</td>\n",
       "      <td>2016.0</td>\n",
       "      <td>right_only</td>\n",
       "    </tr>\n",
       "    <tr>\n",
       "      <th>231296</th>\n",
       "      <td>NaN</td>\n",
       "      <td>vlyigtgfzs@gmail.com</td>\n",
       "      <td>NaN</td>\n",
       "      <td>NaN</td>\n",
       "      <td>231296.0</td>\n",
       "      <td>154.57</td>\n",
       "      <td>2016.0</td>\n",
       "      <td>right_only</td>\n",
       "    </tr>\n",
       "    <tr>\n",
       "      <th>231297</th>\n",
       "      <td>NaN</td>\n",
       "      <td>yfirychuhk@gmail.com</td>\n",
       "      <td>NaN</td>\n",
       "      <td>NaN</td>\n",
       "      <td>231297.0</td>\n",
       "      <td>102.47</td>\n",
       "      <td>2016.0</td>\n",
       "      <td>right_only</td>\n",
       "    </tr>\n",
       "    <tr>\n",
       "      <th>231298</th>\n",
       "      <td>NaN</td>\n",
       "      <td>trnzgqinuu@gmail.com</td>\n",
       "      <td>NaN</td>\n",
       "      <td>NaN</td>\n",
       "      <td>231298.0</td>\n",
       "      <td>32.03</td>\n",
       "      <td>2016.0</td>\n",
       "      <td>right_only</td>\n",
       "    </tr>\n",
       "    <tr>\n",
       "      <th>...</th>\n",
       "      <td>...</td>\n",
       "      <td>...</td>\n",
       "      <td>...</td>\n",
       "      <td>...</td>\n",
       "      <td>...</td>\n",
       "      <td>...</td>\n",
       "      <td>...</td>\n",
       "      <td>...</td>\n",
       "    </tr>\n",
       "    <tr>\n",
       "      <th>376351</th>\n",
       "      <td>NaN</td>\n",
       "      <td>sqodpufunf@gmail.com</td>\n",
       "      <td>NaN</td>\n",
       "      <td>NaN</td>\n",
       "      <td>435933.0</td>\n",
       "      <td>29.62</td>\n",
       "      <td>2016.0</td>\n",
       "      <td>right_only</td>\n",
       "    </tr>\n",
       "    <tr>\n",
       "      <th>376352</th>\n",
       "      <td>NaN</td>\n",
       "      <td>dcakqgznnm@gmail.com</td>\n",
       "      <td>NaN</td>\n",
       "      <td>NaN</td>\n",
       "      <td>435934.0</td>\n",
       "      <td>146.47</td>\n",
       "      <td>2016.0</td>\n",
       "      <td>right_only</td>\n",
       "    </tr>\n",
       "    <tr>\n",
       "      <th>376353</th>\n",
       "      <td>NaN</td>\n",
       "      <td>rdotspqdxi@gmail.com</td>\n",
       "      <td>NaN</td>\n",
       "      <td>NaN</td>\n",
       "      <td>435936.0</td>\n",
       "      <td>169.79</td>\n",
       "      <td>2016.0</td>\n",
       "      <td>right_only</td>\n",
       "    </tr>\n",
       "    <tr>\n",
       "      <th>376354</th>\n",
       "      <td>NaN</td>\n",
       "      <td>fkweqlmmjw@gmail.com</td>\n",
       "      <td>NaN</td>\n",
       "      <td>NaN</td>\n",
       "      <td>435937.0</td>\n",
       "      <td>79.71</td>\n",
       "      <td>2016.0</td>\n",
       "      <td>right_only</td>\n",
       "    </tr>\n",
       "    <tr>\n",
       "      <th>376355</th>\n",
       "      <td>NaN</td>\n",
       "      <td>pidugzoeej@gmail.com</td>\n",
       "      <td>NaN</td>\n",
       "      <td>NaN</td>\n",
       "      <td>435938.0</td>\n",
       "      <td>116.80</td>\n",
       "      <td>2016.0</td>\n",
       "      <td>right_only</td>\n",
       "    </tr>\n",
       "  </tbody>\n",
       "</table>\n",
       "<p>145062 rows × 8 columns</p>\n",
       "</div>"
      ],
      "text/plain": [
       "        Unnamed: 0_x         customer_email  net_revenue_x  year_x  \\\n",
       "231294           NaN   mwrossuukz@gmail.com            NaN     NaN   \n",
       "231295           NaN   gkwsoupawk@gmail.com            NaN     NaN   \n",
       "231296           NaN   vlyigtgfzs@gmail.com            NaN     NaN   \n",
       "231297           NaN   yfirychuhk@gmail.com            NaN     NaN   \n",
       "231298           NaN   trnzgqinuu@gmail.com            NaN     NaN   \n",
       "...              ...                    ...            ...     ...   \n",
       "376351           NaN   sqodpufunf@gmail.com            NaN     NaN   \n",
       "376352           NaN   dcakqgznnm@gmail.com            NaN     NaN   \n",
       "376353           NaN   rdotspqdxi@gmail.com            NaN     NaN   \n",
       "376354           NaN   fkweqlmmjw@gmail.com            NaN     NaN   \n",
       "376355           NaN   pidugzoeej@gmail.com            NaN     NaN   \n",
       "\n",
       "        Unnamed: 0_y  net_revenue_y  year_y      _merge  \n",
       "231294      231294.0         197.26  2016.0  right_only  \n",
       "231295      231295.0          38.28  2016.0  right_only  \n",
       "231296      231296.0         154.57  2016.0  right_only  \n",
       "231297      231297.0         102.47  2016.0  right_only  \n",
       "231298      231298.0          32.03  2016.0  right_only  \n",
       "...              ...            ...     ...         ...  \n",
       "376351      435933.0          29.62  2016.0  right_only  \n",
       "376352      435934.0         146.47  2016.0  right_only  \n",
       "376353      435936.0         169.79  2016.0  right_only  \n",
       "376354      435937.0          79.71  2016.0  right_only  \n",
       "376355      435938.0         116.80  2016.0  right_only  \n",
       "\n",
       "[145062 rows x 8 columns]"
      ]
     },
     "execution_count": 14,
     "metadata": {},
     "output_type": "execute_result"
    }
   ],
   "source": [
    "NewCustOrders2016"
   ]
  },
  {
   "cell_type": "code",
   "execution_count": 16,
   "id": "4f6cc0e9",
   "metadata": {},
   "outputs": [
    {
     "name": "stdout",
     "output_type": "stream",
     "text": [
      "New Customer Revenue for 2016: 18245491.01\n"
     ]
    }
   ],
   "source": [
    "print(\"New Customer Revenue for 2016: \" + str(NewCustRev2016)) "
   ]
  },
  {
   "cell_type": "code",
   "execution_count": 17,
   "id": "c8c15ec3",
   "metadata": {},
   "outputs": [],
   "source": [
    "NewCustOrders2017 = pd.merge(CustOrders2016, CustOrders2017, on='customer_email', how='outer',indicator=True)\n",
    "NewCustOrders2017 = NewCustOrders2017[NewCustOrders2017['year_y']==2017]\n",
    "NewCustOrders2017 = NewCustOrders2017[NewCustOrders2017['year_x'].isna()]\n",
    "NewCustRev2017 = NewCustOrders2017['net_revenue_y'].sum()"
   ]
  },
  {
   "cell_type": "code",
   "execution_count": 19,
   "id": "7929d19e",
   "metadata": {},
   "outputs": [
    {
     "data": {
      "text/html": [
       "<div>\n",
       "<style scoped>\n",
       "    .dataframe tbody tr th:only-of-type {\n",
       "        vertical-align: middle;\n",
       "    }\n",
       "\n",
       "    .dataframe tbody tr th {\n",
       "        vertical-align: top;\n",
       "    }\n",
       "\n",
       "    .dataframe thead th {\n",
       "        text-align: right;\n",
       "    }\n",
       "</style>\n",
       "<table border=\"1\" class=\"dataframe\">\n",
       "  <thead>\n",
       "    <tr style=\"text-align: right;\">\n",
       "      <th></th>\n",
       "      <th>Unnamed: 0_x</th>\n",
       "      <th>customer_email</th>\n",
       "      <th>net_revenue_x</th>\n",
       "      <th>year_x</th>\n",
       "      <th>Unnamed: 0_y</th>\n",
       "      <th>net_revenue_y</th>\n",
       "      <th>year_y</th>\n",
       "      <th>_merge</th>\n",
       "    </tr>\n",
       "  </thead>\n",
       "  <tbody>\n",
       "    <tr>\n",
       "      <th>204646</th>\n",
       "      <td>NaN</td>\n",
       "      <td>mwrossuukz@gmail.com</td>\n",
       "      <td>NaN</td>\n",
       "      <td>NaN</td>\n",
       "      <td>435940.0</td>\n",
       "      <td>96.61</td>\n",
       "      <td>2017.0</td>\n",
       "      <td>right_only</td>\n",
       "    </tr>\n",
       "    <tr>\n",
       "      <th>204647</th>\n",
       "      <td>NaN</td>\n",
       "      <td>qvjfterwnk@gmail.com</td>\n",
       "      <td>NaN</td>\n",
       "      <td>NaN</td>\n",
       "      <td>435941.0</td>\n",
       "      <td>176.00</td>\n",
       "      <td>2017.0</td>\n",
       "      <td>right_only</td>\n",
       "    </tr>\n",
       "    <tr>\n",
       "      <th>204648</th>\n",
       "      <td>NaN</td>\n",
       "      <td>vlyigtgfzs@gmail.com</td>\n",
       "      <td>NaN</td>\n",
       "      <td>NaN</td>\n",
       "      <td>435942.0</td>\n",
       "      <td>73.47</td>\n",
       "      <td>2017.0</td>\n",
       "      <td>right_only</td>\n",
       "    </tr>\n",
       "    <tr>\n",
       "      <th>204649</th>\n",
       "      <td>NaN</td>\n",
       "      <td>yfirychuhk@gmail.com</td>\n",
       "      <td>NaN</td>\n",
       "      <td>NaN</td>\n",
       "      <td>435943.0</td>\n",
       "      <td>138.17</td>\n",
       "      <td>2017.0</td>\n",
       "      <td>right_only</td>\n",
       "    </tr>\n",
       "    <tr>\n",
       "      <th>204650</th>\n",
       "      <td>NaN</td>\n",
       "      <td>fdkiioqtli@gmail.com</td>\n",
       "      <td>NaN</td>\n",
       "      <td>NaN</td>\n",
       "      <td>435944.0</td>\n",
       "      <td>156.87</td>\n",
       "      <td>2017.0</td>\n",
       "      <td>right_only</td>\n",
       "    </tr>\n",
       "    <tr>\n",
       "      <th>...</th>\n",
       "      <td>...</td>\n",
       "      <td>...</td>\n",
       "      <td>...</td>\n",
       "      <td>...</td>\n",
       "      <td>...</td>\n",
       "      <td>...</td>\n",
       "      <td>...</td>\n",
       "      <td>...</td>\n",
       "    </tr>\n",
       "    <tr>\n",
       "      <th>433669</th>\n",
       "      <td>NaN</td>\n",
       "      <td>qzqttwiftu@gmail.com</td>\n",
       "      <td>NaN</td>\n",
       "      <td>NaN</td>\n",
       "      <td>685922.0</td>\n",
       "      <td>184.58</td>\n",
       "      <td>2017.0</td>\n",
       "      <td>right_only</td>\n",
       "    </tr>\n",
       "    <tr>\n",
       "      <th>433670</th>\n",
       "      <td>NaN</td>\n",
       "      <td>pjodiifjop@gmail.com</td>\n",
       "      <td>NaN</td>\n",
       "      <td>NaN</td>\n",
       "      <td>685923.0</td>\n",
       "      <td>133.03</td>\n",
       "      <td>2017.0</td>\n",
       "      <td>right_only</td>\n",
       "    </tr>\n",
       "    <tr>\n",
       "      <th>433671</th>\n",
       "      <td>NaN</td>\n",
       "      <td>appaplmgko@gmail.com</td>\n",
       "      <td>NaN</td>\n",
       "      <td>NaN</td>\n",
       "      <td>685924.0</td>\n",
       "      <td>200.98</td>\n",
       "      <td>2017.0</td>\n",
       "      <td>right_only</td>\n",
       "    </tr>\n",
       "    <tr>\n",
       "      <th>433672</th>\n",
       "      <td>NaN</td>\n",
       "      <td>wvkpmwsgck@gmail.com</td>\n",
       "      <td>NaN</td>\n",
       "      <td>NaN</td>\n",
       "      <td>685925.0</td>\n",
       "      <td>235.35</td>\n",
       "      <td>2017.0</td>\n",
       "      <td>right_only</td>\n",
       "    </tr>\n",
       "    <tr>\n",
       "      <th>433673</th>\n",
       "      <td>NaN</td>\n",
       "      <td>aregboumbw@gmail.com</td>\n",
       "      <td>NaN</td>\n",
       "      <td>NaN</td>\n",
       "      <td>685926.0</td>\n",
       "      <td>208.43</td>\n",
       "      <td>2017.0</td>\n",
       "      <td>right_only</td>\n",
       "    </tr>\n",
       "  </tbody>\n",
       "</table>\n",
       "<p>229028 rows × 8 columns</p>\n",
       "</div>"
      ],
      "text/plain": [
       "        Unnamed: 0_x         customer_email  net_revenue_x  year_x  \\\n",
       "204646           NaN   mwrossuukz@gmail.com            NaN     NaN   \n",
       "204647           NaN  qvjfterwnk@gmail.com             NaN     NaN   \n",
       "204648           NaN   vlyigtgfzs@gmail.com            NaN     NaN   \n",
       "204649           NaN   yfirychuhk@gmail.com            NaN     NaN   \n",
       "204650           NaN   fdkiioqtli@gmail.com            NaN     NaN   \n",
       "...              ...                    ...            ...     ...   \n",
       "433669           NaN   qzqttwiftu@gmail.com            NaN     NaN   \n",
       "433670           NaN   pjodiifjop@gmail.com            NaN     NaN   \n",
       "433671           NaN   appaplmgko@gmail.com            NaN     NaN   \n",
       "433672           NaN   wvkpmwsgck@gmail.com            NaN     NaN   \n",
       "433673           NaN   aregboumbw@gmail.com            NaN     NaN   \n",
       "\n",
       "        Unnamed: 0_y  net_revenue_y  year_y      _merge  \n",
       "204646      435940.0          96.61  2017.0  right_only  \n",
       "204647      435941.0         176.00  2017.0  right_only  \n",
       "204648      435942.0          73.47  2017.0  right_only  \n",
       "204649      435943.0         138.17  2017.0  right_only  \n",
       "204650      435944.0         156.87  2017.0  right_only  \n",
       "...              ...            ...     ...         ...  \n",
       "433669      685922.0         184.58  2017.0  right_only  \n",
       "433670      685923.0         133.03  2017.0  right_only  \n",
       "433671      685924.0         200.98  2017.0  right_only  \n",
       "433672      685925.0         235.35  2017.0  right_only  \n",
       "433673      685926.0         208.43  2017.0  right_only  \n",
       "\n",
       "[229028 rows x 8 columns]"
      ]
     },
     "execution_count": 19,
     "metadata": {},
     "output_type": "execute_result"
    }
   ],
   "source": [
    "NewCustOrders2017"
   ]
  },
  {
   "cell_type": "code",
   "execution_count": 18,
   "id": "9c4d3bdd",
   "metadata": {},
   "outputs": [
    {
     "name": "stdout",
     "output_type": "stream",
     "text": [
      "New Customer Revenue for 2017: 28776235.039999995\n"
     ]
    }
   ],
   "source": [
    "print(\"New Customer Revenue for 2017: \" + str(NewCustRev2017)) "
   ]
  },
  {
   "cell_type": "markdown",
   "id": "52af7576",
   "metadata": {},
   "source": [
    "## Existing Customer Growth"
   ]
  },
  {
   "cell_type": "code",
   "execution_count": 20,
   "id": "13700be9",
   "metadata": {},
   "outputs": [],
   "source": [
    "NewCustOrders2017 = pd.merge(CustOrders2016, CustOrders2017, on='customer_email', how='outer',indicator=True)"
   ]
  },
  {
   "cell_type": "code",
   "execution_count": 21,
   "id": "98abd0bc",
   "metadata": {},
   "outputs": [],
   "source": [
    "NewCustOrders2017 = NewCustOrders2017[NewCustOrders2017['_merge']=='both']"
   ]
  },
  {
   "cell_type": "code",
   "execution_count": 22,
   "id": "d17b24c9",
   "metadata": {},
   "outputs": [],
   "source": [
    "Growth2017 = pd.DataFrame(columns=['customer_email','net_growth'])\n",
    "Growth2017['net_growth'] = NewCustOrders2017['net_revenue_y'] - NewCustOrders2017['net_revenue_x']\n",
    "Growth2017['customer_email'] = NewCustOrders2017['customer_email']"
   ]
  },
  {
   "cell_type": "code",
   "execution_count": 23,
   "id": "75bac7a1",
   "metadata": {},
   "outputs": [
    {
     "data": {
      "text/html": [
       "<div>\n",
       "<style scoped>\n",
       "    .dataframe tbody tr th:only-of-type {\n",
       "        vertical-align: middle;\n",
       "    }\n",
       "\n",
       "    .dataframe tbody tr th {\n",
       "        vertical-align: top;\n",
       "    }\n",
       "\n",
       "    .dataframe thead th {\n",
       "        text-align: right;\n",
       "    }\n",
       "</style>\n",
       "<table border=\"1\" class=\"dataframe\">\n",
       "  <thead>\n",
       "    <tr style=\"text-align: right;\">\n",
       "      <th></th>\n",
       "      <th>Unnamed: 0_x</th>\n",
       "      <th>customer_email</th>\n",
       "      <th>net_revenue_x</th>\n",
       "      <th>year_x</th>\n",
       "      <th>Unnamed: 0_y</th>\n",
       "      <th>net_revenue_y</th>\n",
       "      <th>year_y</th>\n",
       "      <th>_merge</th>\n",
       "    </tr>\n",
       "  </thead>\n",
       "  <tbody>\n",
       "    <tr>\n",
       "      <th>7</th>\n",
       "      <td>231301.0</td>\n",
       "      <td>yixtbjnxce@gmail.com</td>\n",
       "      <td>201.32</td>\n",
       "      <td>2016.0</td>\n",
       "      <td>435947.0</td>\n",
       "      <td>133.86</td>\n",
       "      <td>2017.0</td>\n",
       "      <td>both</td>\n",
       "    </tr>\n",
       "    <tr>\n",
       "      <th>13</th>\n",
       "      <td>231307.0</td>\n",
       "      <td>gwqjyelgct@gmail.com</td>\n",
       "      <td>14.62</td>\n",
       "      <td>2016.0</td>\n",
       "      <td>435953.0</td>\n",
       "      <td>164.10</td>\n",
       "      <td>2017.0</td>\n",
       "      <td>both</td>\n",
       "    </tr>\n",
       "    <tr>\n",
       "      <th>16</th>\n",
       "      <td>231310.0</td>\n",
       "      <td>hxshgpdxtr@gmail.com</td>\n",
       "      <td>217.35</td>\n",
       "      <td>2016.0</td>\n",
       "      <td>435956.0</td>\n",
       "      <td>178.10</td>\n",
       "      <td>2017.0</td>\n",
       "      <td>both</td>\n",
       "    </tr>\n",
       "    <tr>\n",
       "      <th>28</th>\n",
       "      <td>231322.0</td>\n",
       "      <td>gipqsrvngd@gmail.com</td>\n",
       "      <td>156.06</td>\n",
       "      <td>2016.0</td>\n",
       "      <td>435968.0</td>\n",
       "      <td>172.90</td>\n",
       "      <td>2017.0</td>\n",
       "      <td>both</td>\n",
       "    </tr>\n",
       "    <tr>\n",
       "      <th>37</th>\n",
       "      <td>231331.0</td>\n",
       "      <td>cdvwonzpwu@gmail.com</td>\n",
       "      <td>140.43</td>\n",
       "      <td>2016.0</td>\n",
       "      <td>435977.0</td>\n",
       "      <td>102.46</td>\n",
       "      <td>2017.0</td>\n",
       "      <td>both</td>\n",
       "    </tr>\n",
       "    <tr>\n",
       "      <th>...</th>\n",
       "      <td>...</td>\n",
       "      <td>...</td>\n",
       "      <td>...</td>\n",
       "      <td>...</td>\n",
       "      <td>...</td>\n",
       "      <td>...</td>\n",
       "      <td>...</td>\n",
       "      <td>...</td>\n",
       "    </tr>\n",
       "    <tr>\n",
       "      <th>204622</th>\n",
       "      <td>435916.0</td>\n",
       "      <td>flkeldljhv@gmail.com</td>\n",
       "      <td>211.68</td>\n",
       "      <td>2016.0</td>\n",
       "      <td>640562.0</td>\n",
       "      <td>180.01</td>\n",
       "      <td>2017.0</td>\n",
       "      <td>both</td>\n",
       "    </tr>\n",
       "    <tr>\n",
       "      <th>204628</th>\n",
       "      <td>435922.0</td>\n",
       "      <td>ecrvkbfunu@gmail.com</td>\n",
       "      <td>230.49</td>\n",
       "      <td>2016.0</td>\n",
       "      <td>640568.0</td>\n",
       "      <td>205.42</td>\n",
       "      <td>2017.0</td>\n",
       "      <td>both</td>\n",
       "    </tr>\n",
       "    <tr>\n",
       "      <th>204631</th>\n",
       "      <td>435925.0</td>\n",
       "      <td>tpdtoiokyt@gmail.com</td>\n",
       "      <td>5.60</td>\n",
       "      <td>2016.0</td>\n",
       "      <td>640571.0</td>\n",
       "      <td>242.63</td>\n",
       "      <td>2017.0</td>\n",
       "      <td>both</td>\n",
       "    </tr>\n",
       "    <tr>\n",
       "      <th>204640</th>\n",
       "      <td>435934.0</td>\n",
       "      <td>dcakqgznnm@gmail.com</td>\n",
       "      <td>146.47</td>\n",
       "      <td>2016.0</td>\n",
       "      <td>640580.0</td>\n",
       "      <td>62.66</td>\n",
       "      <td>2017.0</td>\n",
       "      <td>both</td>\n",
       "    </tr>\n",
       "    <tr>\n",
       "      <th>204643</th>\n",
       "      <td>435937.0</td>\n",
       "      <td>fkweqlmmjw@gmail.com</td>\n",
       "      <td>79.71</td>\n",
       "      <td>2016.0</td>\n",
       "      <td>640583.0</td>\n",
       "      <td>21.78</td>\n",
       "      <td>2017.0</td>\n",
       "      <td>both</td>\n",
       "    </tr>\n",
       "  </tbody>\n",
       "</table>\n",
       "<p>20959 rows × 8 columns</p>\n",
       "</div>"
      ],
      "text/plain": [
       "        Unnamed: 0_x        customer_email  net_revenue_x  year_x  \\\n",
       "7           231301.0  yixtbjnxce@gmail.com         201.32  2016.0   \n",
       "13          231307.0  gwqjyelgct@gmail.com          14.62  2016.0   \n",
       "16          231310.0  hxshgpdxtr@gmail.com         217.35  2016.0   \n",
       "28          231322.0  gipqsrvngd@gmail.com         156.06  2016.0   \n",
       "37          231331.0  cdvwonzpwu@gmail.com         140.43  2016.0   \n",
       "...              ...                   ...            ...     ...   \n",
       "204622      435916.0  flkeldljhv@gmail.com         211.68  2016.0   \n",
       "204628      435922.0  ecrvkbfunu@gmail.com         230.49  2016.0   \n",
       "204631      435925.0  tpdtoiokyt@gmail.com           5.60  2016.0   \n",
       "204640      435934.0  dcakqgznnm@gmail.com         146.47  2016.0   \n",
       "204643      435937.0  fkweqlmmjw@gmail.com          79.71  2016.0   \n",
       "\n",
       "        Unnamed: 0_y  net_revenue_y  year_y _merge  \n",
       "7           435947.0         133.86  2017.0   both  \n",
       "13          435953.0         164.10  2017.0   both  \n",
       "16          435956.0         178.10  2017.0   both  \n",
       "28          435968.0         172.90  2017.0   both  \n",
       "37          435977.0         102.46  2017.0   both  \n",
       "...              ...            ...     ...    ...  \n",
       "204622      640562.0         180.01  2017.0   both  \n",
       "204628      640568.0         205.42  2017.0   both  \n",
       "204631      640571.0         242.63  2017.0   both  \n",
       "204640      640580.0          62.66  2017.0   both  \n",
       "204643      640583.0          21.78  2017.0   both  \n",
       "\n",
       "[20959 rows x 8 columns]"
      ]
     },
     "execution_count": 23,
     "metadata": {},
     "output_type": "execute_result"
    }
   ],
   "source": [
    "NewCustOrders2017"
   ]
  },
  {
   "cell_type": "code",
   "execution_count": 24,
   "id": "85ff55f9",
   "metadata": {},
   "outputs": [
    {
     "data": {
      "text/html": [
       "<div>\n",
       "<style scoped>\n",
       "    .dataframe tbody tr th:only-of-type {\n",
       "        vertical-align: middle;\n",
       "    }\n",
       "\n",
       "    .dataframe tbody tr th {\n",
       "        vertical-align: top;\n",
       "    }\n",
       "\n",
       "    .dataframe thead th {\n",
       "        text-align: right;\n",
       "    }\n",
       "</style>\n",
       "<table border=\"1\" class=\"dataframe\">\n",
       "  <thead>\n",
       "    <tr style=\"text-align: right;\">\n",
       "      <th></th>\n",
       "      <th>customer_email</th>\n",
       "      <th>net_growth</th>\n",
       "    </tr>\n",
       "  </thead>\n",
       "  <tbody>\n",
       "    <tr>\n",
       "      <th>7</th>\n",
       "      <td>yixtbjnxce@gmail.com</td>\n",
       "      <td>-67.46</td>\n",
       "    </tr>\n",
       "    <tr>\n",
       "      <th>13</th>\n",
       "      <td>gwqjyelgct@gmail.com</td>\n",
       "      <td>149.48</td>\n",
       "    </tr>\n",
       "    <tr>\n",
       "      <th>16</th>\n",
       "      <td>hxshgpdxtr@gmail.com</td>\n",
       "      <td>-39.25</td>\n",
       "    </tr>\n",
       "    <tr>\n",
       "      <th>28</th>\n",
       "      <td>gipqsrvngd@gmail.com</td>\n",
       "      <td>16.84</td>\n",
       "    </tr>\n",
       "    <tr>\n",
       "      <th>37</th>\n",
       "      <td>cdvwonzpwu@gmail.com</td>\n",
       "      <td>-37.97</td>\n",
       "    </tr>\n",
       "    <tr>\n",
       "      <th>...</th>\n",
       "      <td>...</td>\n",
       "      <td>...</td>\n",
       "    </tr>\n",
       "    <tr>\n",
       "      <th>204622</th>\n",
       "      <td>flkeldljhv@gmail.com</td>\n",
       "      <td>-31.67</td>\n",
       "    </tr>\n",
       "    <tr>\n",
       "      <th>204628</th>\n",
       "      <td>ecrvkbfunu@gmail.com</td>\n",
       "      <td>-25.07</td>\n",
       "    </tr>\n",
       "    <tr>\n",
       "      <th>204631</th>\n",
       "      <td>tpdtoiokyt@gmail.com</td>\n",
       "      <td>237.03</td>\n",
       "    </tr>\n",
       "    <tr>\n",
       "      <th>204640</th>\n",
       "      <td>dcakqgznnm@gmail.com</td>\n",
       "      <td>-83.81</td>\n",
       "    </tr>\n",
       "    <tr>\n",
       "      <th>204643</th>\n",
       "      <td>fkweqlmmjw@gmail.com</td>\n",
       "      <td>-57.93</td>\n",
       "    </tr>\n",
       "  </tbody>\n",
       "</table>\n",
       "<p>20959 rows × 2 columns</p>\n",
       "</div>"
      ],
      "text/plain": [
       "              customer_email  net_growth\n",
       "7       yixtbjnxce@gmail.com      -67.46\n",
       "13      gwqjyelgct@gmail.com      149.48\n",
       "16      hxshgpdxtr@gmail.com      -39.25\n",
       "28      gipqsrvngd@gmail.com       16.84\n",
       "37      cdvwonzpwu@gmail.com      -37.97\n",
       "...                      ...         ...\n",
       "204622  flkeldljhv@gmail.com      -31.67\n",
       "204628  ecrvkbfunu@gmail.com      -25.07\n",
       "204631  tpdtoiokyt@gmail.com      237.03\n",
       "204640  dcakqgznnm@gmail.com      -83.81\n",
       "204643  fkweqlmmjw@gmail.com      -57.93\n",
       "\n",
       "[20959 rows x 2 columns]"
      ]
     },
     "execution_count": 24,
     "metadata": {},
     "output_type": "execute_result"
    }
   ],
   "source": [
    "Growth2017"
   ]
  },
  {
   "cell_type": "code",
   "execution_count": 25,
   "id": "80485c29",
   "metadata": {},
   "outputs": [
    {
     "data": {
      "text/html": [
       "<div>\n",
       "<style scoped>\n",
       "    .dataframe tbody tr th:only-of-type {\n",
       "        vertical-align: middle;\n",
       "    }\n",
       "\n",
       "    .dataframe tbody tr th {\n",
       "        vertical-align: top;\n",
       "    }\n",
       "\n",
       "    .dataframe thead th {\n",
       "        text-align: right;\n",
       "    }\n",
       "</style>\n",
       "<table border=\"1\" class=\"dataframe\">\n",
       "  <thead>\n",
       "    <tr style=\"text-align: right;\">\n",
       "      <th></th>\n",
       "      <th>Unnamed: 0_x</th>\n",
       "      <th>customer_email</th>\n",
       "      <th>net_revenue_x</th>\n",
       "      <th>year_x</th>\n",
       "      <th>Unnamed: 0_y</th>\n",
       "      <th>net_revenue_y</th>\n",
       "      <th>year_y</th>\n",
       "      <th>_merge</th>\n",
       "    </tr>\n",
       "  </thead>\n",
       "  <tbody>\n",
       "    <tr>\n",
       "      <th>8</th>\n",
       "      <td>8.0</td>\n",
       "      <td>baiikostmd@gmail.com</td>\n",
       "      <td>170.70</td>\n",
       "      <td>2015.0</td>\n",
       "      <td>231302.0</td>\n",
       "      <td>142.57</td>\n",
       "      <td>2016.0</td>\n",
       "      <td>both</td>\n",
       "    </tr>\n",
       "    <tr>\n",
       "      <th>9</th>\n",
       "      <td>9.0</td>\n",
       "      <td>lfeafnigbu@gmail.com</td>\n",
       "      <td>54.99</td>\n",
       "      <td>2015.0</td>\n",
       "      <td>231303.0</td>\n",
       "      <td>35.06</td>\n",
       "      <td>2016.0</td>\n",
       "      <td>both</td>\n",
       "    </tr>\n",
       "    <tr>\n",
       "      <th>15</th>\n",
       "      <td>15.0</td>\n",
       "      <td>tqxsjlgjpi@gmail.com</td>\n",
       "      <td>107.71</td>\n",
       "      <td>2015.0</td>\n",
       "      <td>231309.0</td>\n",
       "      <td>33.50</td>\n",
       "      <td>2016.0</td>\n",
       "      <td>both</td>\n",
       "    </tr>\n",
       "    <tr>\n",
       "      <th>16</th>\n",
       "      <td>16.0</td>\n",
       "      <td>hxshgpdxtr@gmail.com</td>\n",
       "      <td>180.59</td>\n",
       "      <td>2015.0</td>\n",
       "      <td>231310.0</td>\n",
       "      <td>217.35</td>\n",
       "      <td>2016.0</td>\n",
       "      <td>both</td>\n",
       "    </tr>\n",
       "    <tr>\n",
       "      <th>24</th>\n",
       "      <td>24.0</td>\n",
       "      <td>zvhsssvgor@gmail.com</td>\n",
       "      <td>21.55</td>\n",
       "      <td>2015.0</td>\n",
       "      <td>231318.0</td>\n",
       "      <td>43.84</td>\n",
       "      <td>2016.0</td>\n",
       "      <td>both</td>\n",
       "    </tr>\n",
       "    <tr>\n",
       "      <th>...</th>\n",
       "      <td>...</td>\n",
       "      <td>...</td>\n",
       "      <td>...</td>\n",
       "      <td>...</td>\n",
       "      <td>...</td>\n",
       "      <td>...</td>\n",
       "      <td>...</td>\n",
       "      <td>...</td>\n",
       "    </tr>\n",
       "    <tr>\n",
       "      <th>204631</th>\n",
       "      <td>204631.0</td>\n",
       "      <td>tpdtoiokyt@gmail.com</td>\n",
       "      <td>82.88</td>\n",
       "      <td>2015.0</td>\n",
       "      <td>435925.0</td>\n",
       "      <td>5.60</td>\n",
       "      <td>2016.0</td>\n",
       "      <td>both</td>\n",
       "    </tr>\n",
       "    <tr>\n",
       "      <th>204633</th>\n",
       "      <td>204633.0</td>\n",
       "      <td>yeserbsmyf@gmail.com</td>\n",
       "      <td>46.60</td>\n",
       "      <td>2015.0</td>\n",
       "      <td>435927.0</td>\n",
       "      <td>83.72</td>\n",
       "      <td>2016.0</td>\n",
       "      <td>both</td>\n",
       "    </tr>\n",
       "    <tr>\n",
       "      <th>204636</th>\n",
       "      <td>204636.0</td>\n",
       "      <td>nyunstvnpc@gmail.com</td>\n",
       "      <td>24.97</td>\n",
       "      <td>2015.0</td>\n",
       "      <td>435930.0</td>\n",
       "      <td>18.56</td>\n",
       "      <td>2016.0</td>\n",
       "      <td>both</td>\n",
       "    </tr>\n",
       "    <tr>\n",
       "      <th>204641</th>\n",
       "      <td>204641.0</td>\n",
       "      <td>mezrjfkced@gmail.com</td>\n",
       "      <td>118.19</td>\n",
       "      <td>2015.0</td>\n",
       "      <td>435935.0</td>\n",
       "      <td>114.17</td>\n",
       "      <td>2016.0</td>\n",
       "      <td>both</td>\n",
       "    </tr>\n",
       "    <tr>\n",
       "      <th>204645</th>\n",
       "      <td>204645.0</td>\n",
       "      <td>kxqglfdktu@gmail.com</td>\n",
       "      <td>73.32</td>\n",
       "      <td>2015.0</td>\n",
       "      <td>435939.0</td>\n",
       "      <td>37.31</td>\n",
       "      <td>2016.0</td>\n",
       "      <td>both</td>\n",
       "    </tr>\n",
       "  </tbody>\n",
       "</table>\n",
       "<p>59584 rows × 8 columns</p>\n",
       "</div>"
      ],
      "text/plain": [
       "        Unnamed: 0_x         customer_email  net_revenue_x  year_x  \\\n",
       "8                8.0   baiikostmd@gmail.com         170.70  2015.0   \n",
       "9                9.0   lfeafnigbu@gmail.com          54.99  2015.0   \n",
       "15              15.0   tqxsjlgjpi@gmail.com         107.71  2015.0   \n",
       "16              16.0   hxshgpdxtr@gmail.com         180.59  2015.0   \n",
       "24              24.0   zvhsssvgor@gmail.com          21.55  2015.0   \n",
       "...              ...                    ...            ...     ...   \n",
       "204631      204631.0   tpdtoiokyt@gmail.com          82.88  2015.0   \n",
       "204633      204633.0   yeserbsmyf@gmail.com          46.60  2015.0   \n",
       "204636      204636.0   nyunstvnpc@gmail.com          24.97  2015.0   \n",
       "204641      204641.0   mezrjfkced@gmail.com         118.19  2015.0   \n",
       "204645      204645.0   kxqglfdktu@gmail.com          73.32  2015.0   \n",
       "\n",
       "        Unnamed: 0_y  net_revenue_y  year_y _merge  \n",
       "8           231302.0         142.57  2016.0   both  \n",
       "9           231303.0          35.06  2016.0   both  \n",
       "15          231309.0          33.50  2016.0   both  \n",
       "16          231310.0         217.35  2016.0   both  \n",
       "24          231318.0          43.84  2016.0   both  \n",
       "...              ...            ...     ...    ...  \n",
       "204631      435925.0           5.60  2016.0   both  \n",
       "204633      435927.0          83.72  2016.0   both  \n",
       "204636      435930.0          18.56  2016.0   both  \n",
       "204641      435935.0         114.17  2016.0   both  \n",
       "204645      435939.0          37.31  2016.0   both  \n",
       "\n",
       "[59584 rows x 8 columns]"
      ]
     },
     "execution_count": 25,
     "metadata": {},
     "output_type": "execute_result"
    }
   ],
   "source": [
    "NewCustOrders2016 = pd.merge(CustOrders2015, CustOrders2016, on='customer_email', how='outer',indicator=True)\n",
    "NewCustOrders2016 = NewCustOrders2016[NewCustOrders2016['_merge']=='both']\n",
    "NewCustOrders2016"
   ]
  },
  {
   "cell_type": "code",
   "execution_count": 26,
   "id": "2c25b045",
   "metadata": {},
   "outputs": [],
   "source": [
    "Growth2016 = pd.DataFrame(columns=['customer_email','net_growth'])\n",
    "Growth2016['net_growth'] = NewCustOrders2016['net_revenue_y'] - NewCustOrders2016['net_revenue_x']\n",
    "Growth2016['customer_email'] = NewCustOrders2016['customer_email']"
   ]
  },
  {
   "cell_type": "code",
   "execution_count": 27,
   "id": "e6be8204",
   "metadata": {},
   "outputs": [
    {
     "data": {
      "text/html": [
       "<div>\n",
       "<style scoped>\n",
       "    .dataframe tbody tr th:only-of-type {\n",
       "        vertical-align: middle;\n",
       "    }\n",
       "\n",
       "    .dataframe tbody tr th {\n",
       "        vertical-align: top;\n",
       "    }\n",
       "\n",
       "    .dataframe thead th {\n",
       "        text-align: right;\n",
       "    }\n",
       "</style>\n",
       "<table border=\"1\" class=\"dataframe\">\n",
       "  <thead>\n",
       "    <tr style=\"text-align: right;\">\n",
       "      <th></th>\n",
       "      <th>customer_email</th>\n",
       "      <th>net_growth</th>\n",
       "    </tr>\n",
       "  </thead>\n",
       "  <tbody>\n",
       "    <tr>\n",
       "      <th>8</th>\n",
       "      <td>baiikostmd@gmail.com</td>\n",
       "      <td>-28.13</td>\n",
       "    </tr>\n",
       "    <tr>\n",
       "      <th>9</th>\n",
       "      <td>lfeafnigbu@gmail.com</td>\n",
       "      <td>-19.93</td>\n",
       "    </tr>\n",
       "    <tr>\n",
       "      <th>15</th>\n",
       "      <td>tqxsjlgjpi@gmail.com</td>\n",
       "      <td>-74.21</td>\n",
       "    </tr>\n",
       "    <tr>\n",
       "      <th>16</th>\n",
       "      <td>hxshgpdxtr@gmail.com</td>\n",
       "      <td>36.76</td>\n",
       "    </tr>\n",
       "    <tr>\n",
       "      <th>24</th>\n",
       "      <td>zvhsssvgor@gmail.com</td>\n",
       "      <td>22.29</td>\n",
       "    </tr>\n",
       "    <tr>\n",
       "      <th>...</th>\n",
       "      <td>...</td>\n",
       "      <td>...</td>\n",
       "    </tr>\n",
       "    <tr>\n",
       "      <th>204631</th>\n",
       "      <td>tpdtoiokyt@gmail.com</td>\n",
       "      <td>-77.28</td>\n",
       "    </tr>\n",
       "    <tr>\n",
       "      <th>204633</th>\n",
       "      <td>yeserbsmyf@gmail.com</td>\n",
       "      <td>37.12</td>\n",
       "    </tr>\n",
       "    <tr>\n",
       "      <th>204636</th>\n",
       "      <td>nyunstvnpc@gmail.com</td>\n",
       "      <td>-6.41</td>\n",
       "    </tr>\n",
       "    <tr>\n",
       "      <th>204641</th>\n",
       "      <td>mezrjfkced@gmail.com</td>\n",
       "      <td>-4.02</td>\n",
       "    </tr>\n",
       "    <tr>\n",
       "      <th>204645</th>\n",
       "      <td>kxqglfdktu@gmail.com</td>\n",
       "      <td>-36.01</td>\n",
       "    </tr>\n",
       "  </tbody>\n",
       "</table>\n",
       "<p>59584 rows × 2 columns</p>\n",
       "</div>"
      ],
      "text/plain": [
       "               customer_email  net_growth\n",
       "8        baiikostmd@gmail.com      -28.13\n",
       "9        lfeafnigbu@gmail.com      -19.93\n",
       "15       tqxsjlgjpi@gmail.com      -74.21\n",
       "16       hxshgpdxtr@gmail.com       36.76\n",
       "24       zvhsssvgor@gmail.com       22.29\n",
       "...                       ...         ...\n",
       "204631   tpdtoiokyt@gmail.com      -77.28\n",
       "204633   yeserbsmyf@gmail.com       37.12\n",
       "204636   nyunstvnpc@gmail.com       -6.41\n",
       "204641   mezrjfkced@gmail.com       -4.02\n",
       "204645   kxqglfdktu@gmail.com      -36.01\n",
       "\n",
       "[59584 rows x 2 columns]"
      ]
     },
     "execution_count": 27,
     "metadata": {},
     "output_type": "execute_result"
    }
   ],
   "source": [
    "Growth2016"
   ]
  },
  {
   "cell_type": "markdown",
   "id": "5b395fb6",
   "metadata": {},
   "source": [
    "## Revenue lost from attrition"
   ]
  },
  {
   "cell_type": "code",
   "execution_count": 28,
   "id": "10daa73e",
   "metadata": {},
   "outputs": [],
   "source": [
    "Attrition2017 = Growth2017['net_growth'].sum()\n",
    "Attrition2016 = Growth2016['net_growth'].sum()"
   ]
  },
  {
   "cell_type": "code",
   "execution_count": 29,
   "id": "4dfbbd69",
   "metadata": {},
   "outputs": [
    {
     "data": {
      "text/plain": [
       "20611.340000000004"
      ]
     },
     "execution_count": 29,
     "metadata": {},
     "output_type": "execute_result"
    }
   ],
   "source": [
    "Attrition2017"
   ]
  },
  {
   "cell_type": "code",
   "execution_count": 30,
   "id": "9b053d1c",
   "metadata": {},
   "outputs": [
    {
     "data": {
      "text/plain": [
       "20335.459999999985"
      ]
     },
     "execution_count": 30,
     "metadata": {},
     "output_type": "execute_result"
    }
   ],
   "source": [
    "Attrition2016"
   ]
  },
  {
   "cell_type": "markdown",
   "id": "657d9fe4",
   "metadata": {},
   "source": [
    "## Existing Customer Revenue Current Year"
   ]
  },
  {
   "cell_type": "code",
   "execution_count": 31,
   "id": "33bf6c89",
   "metadata": {},
   "outputs": [],
   "source": [
    "Ex_custrev_2017 = NewCustOrders2017['net_revenue_y'].sum()\n",
    "Ex_custrev_2016 = NewCustOrders2017['net_revenue_x'].sum()"
   ]
  },
  {
   "cell_type": "code",
   "execution_count": 33,
   "id": "59315118",
   "metadata": {},
   "outputs": [
    {
     "name": "stdout",
     "output_type": "stream",
     "text": [
      "Existing Customer Revenue Current Year: 2641259.99\n"
     ]
    }
   ],
   "source": [
    "print('Existing Customer Revenue Current Year: ' + str(Ex_custrev_2017))"
   ]
  },
  {
   "cell_type": "markdown",
   "id": "801b7b3a",
   "metadata": {},
   "source": [
    "## Existing Customer Revenue Prior Year"
   ]
  },
  {
   "cell_type": "code",
   "execution_count": 34,
   "id": "7177fddc",
   "metadata": {},
   "outputs": [
    {
     "name": "stdout",
     "output_type": "stream",
     "text": [
      "Existing Customer Revenue Prior Year: 2620648.65\n"
     ]
    }
   ],
   "source": [
    "print('Existing Customer Revenue Prior Year: ' + str(Ex_custrev_2016))"
   ]
  },
  {
   "cell_type": "markdown",
   "id": "008a7b5c",
   "metadata": {},
   "source": [
    "## Total Customers Current Year"
   ]
  },
  {
   "cell_type": "code",
   "execution_count": 37,
   "id": "59910ee0",
   "metadata": {},
   "outputs": [
    {
     "name": "stdout",
     "output_type": "stream",
     "text": [
      "Total Customers Current Year: 249987\n"
     ]
    }
   ],
   "source": [
    "print('Total Customers Current Year: ' + str(len(CustOrders2017))) "
   ]
  },
  {
   "cell_type": "markdown",
   "id": "b5b3700b",
   "metadata": {},
   "source": [
    "## Total Customers Prior Year"
   ]
  },
  {
   "cell_type": "code",
   "execution_count": 38,
   "id": "d55d446a",
   "metadata": {},
   "outputs": [
    {
     "name": "stdout",
     "output_type": "stream",
     "text": [
      "Total Customers Prior Year: 204646\n"
     ]
    }
   ],
   "source": [
    "print('Total Customers Prior Year: ' + str(len(CustOrders2016))) "
   ]
  },
  {
   "cell_type": "markdown",
   "id": "ea902310",
   "metadata": {},
   "source": [
    "## New Customers"
   ]
  },
  {
   "cell_type": "code",
   "execution_count": 48,
   "id": "ea1d3e46",
   "metadata": {},
   "outputs": [],
   "source": [
    "Custlist2017 = pd.merge(CustOrders2016, CustOrders2017, on='customer_email', how='outer',indicator=True)\n",
    "Custlist2016 = pd.merge(CustOrders2015, CustOrders2016, on='customer_email', how='outer',indicator=True)"
   ]
  },
  {
   "cell_type": "code",
   "execution_count": 41,
   "id": "ce426614",
   "metadata": {},
   "outputs": [],
   "source": [
    "NewCustlist2017 = Custlist2017[Custlist2017['_merge']=='right_only']"
   ]
  },
  {
   "cell_type": "code",
   "execution_count": 43,
   "id": "003d89ee",
   "metadata": {},
   "outputs": [
    {
     "name": "stdout",
     "output_type": "stream",
     "text": [
      "New Customers in 2017: 229028\n"
     ]
    }
   ],
   "source": [
    "print('New Customers in 2017: ' + str(len(NewCustlist2017))) "
   ]
  },
  {
   "cell_type": "code",
   "execution_count": 108,
   "id": "53dedb1f",
   "metadata": {},
   "outputs": [
    {
     "name": "stdout",
     "output_type": "stream",
     "text": [
      "New Customers in 2016: 145062\n"
     ]
    }
   ],
   "source": [
    "NewCustlist2016 = Custlist2016[Custlist2016['_merge']=='right_only']\n",
    "print('New Customers in 2016: ' + str(len(NewCustlist2016))) "
   ]
  },
  {
   "cell_type": "markdown",
   "id": "5357f653",
   "metadata": {},
   "source": [
    "## Lost Customers"
   ]
  },
  {
   "cell_type": "code",
   "execution_count": 51,
   "id": "79958d18",
   "metadata": {},
   "outputs": [],
   "source": [
    "LostCustlist2017 = Custlist2017[Custlist2017['_merge']=='left_only']\n",
    "LostCustlist2016 = Custlist2016[Custlist2016['_merge']=='left_only']"
   ]
  },
  {
   "cell_type": "code",
   "execution_count": 54,
   "id": "56dde03f",
   "metadata": {},
   "outputs": [
    {
     "name": "stdout",
     "output_type": "stream",
     "text": [
      "Lost Customers in 2017: 183687\n",
      "Lost Customers in 2016: 171710\n"
     ]
    }
   ],
   "source": [
    "print('Lost Customers in 2017: ' + str(len(LostCustlist2017))) \n",
    "print('Lost Customers in 2016: ' + str(len(LostCustlist2016))) "
   ]
  },
  {
   "cell_type": "markdown",
   "id": "aea27fd2",
   "metadata": {},
   "source": [
    "## Visualisations"
   ]
  },
  {
   "cell_type": "code",
   "execution_count": 73,
   "id": "fad3f45e",
   "metadata": {},
   "outputs": [],
   "source": [
    "import matplotlib.pyplot as plt\n",
    "from matplotlib import pyplot\n",
    "import seaborn as sns\n",
    "from functools import reduce"
   ]
  },
  {
   "cell_type": "code",
   "execution_count": 64,
   "id": "42ac5894",
   "metadata": {},
   "outputs": [
    {
     "data": {
      "image/png": "[encoded data removed]",
      "text/plain": [
       "<Figure size 432x288 with 1 Axes>"
      ]
     },
     "metadata": {},
     "output_type": "display_data"
    }
   ],
   "source": [
    "colors = ['yellowgreen', 'gold', 'lightskyblue']\n",
    "plt.title('Total Revenue per Year')\n",
    "plt.pie(Revenue, labels=RevenueYear, startangle = 90, radius=2, autopct='%1.1f%%', shadow=True,colors=colors)\n",
    "plt.legend()\n",
    "plt.axis('equal')\n",
    "plt.tight_layout()\n",
    "plt.show() "
   ]
  },
  {
   "cell_type": "code",
   "execution_count": 67,
   "id": "792bb14f",
   "metadata": {},
   "outputs": [
    {
     "data": {
      "image/png": "[encoded data removed]",
      "text/plain": [
       "<Figure size 720x576 with 1 Axes>"
      ]
     },
     "metadata": {
      "needs_background": "light"
     },
     "output_type": "display_data"
    }
   ],
   "source": [
    "X = ['2016','2017']\n",
    "X_axis = np.arange(len(X))\n",
    "plt.figure(figsize=(10,8))  \n",
    "plt.bar(X_axis - 0.2, (len(NewCustlist2016), len(NewCustlist2017)), 0.4, label = 'New Customers')\n",
    "plt.bar(X_axis + 0.2, (len(CustOrders2016), len(CustOrders2017)), 0.4, label = 'Total Customers')\n",
    "  \n",
    "plt.xticks(X_axis, X)\n",
    "plt.xlabel(\"Years\")\n",
    "plt.ylabel(\"Number of Customers\")\n",
    "plt.title(\"Total Customers vs New customers by Year\")\n",
    "plt.legend()\n",
    "plt.show()"
   ]
  },
  {
   "cell_type": "code",
   "execution_count": 70,
   "id": "faf86ab0",
   "metadata": {},
   "outputs": [
    {
     "data": {
      "image/png": "[encoded data removed]",
      "text/plain": [
       "<Figure size 720x576 with 1 Axes>"
      ]
     },
     "metadata": {
      "needs_background": "light"
     },
     "output_type": "display_data"
    }
   ],
   "source": [
    "X = ['2016','2017']\n",
    "X_axis = np.arange(len(X))\n",
    "plt.figure(figsize=(10,8))    \n",
    "plt.bar(X_axis - 0.2, (Ex_custrev_2016, Ex_custrev_2017), 0.4, label = 'Existing Customer Revenue')\n",
    "plt.bar(X_axis + 0.2, (TotRev2016, TotRev2017), 0.4, label = 'Total Revenue')\n",
    "  \n",
    "plt.xticks(X_axis, X)\n",
    "plt.xlabel(\"Years\")\n",
    "plt.ylabel(\"Revenue Earned\")\n",
    "plt.title(\"Total Revenue vs Existing Customer Revenue by Year\")\n",
    "plt.legend()\n",
    "plt.show()"
   ]
  },
  {
   "cell_type": "code",
   "execution_count": 72,
   "id": "365aeedb",
   "metadata": {},
   "outputs": [
    {
     "data": {
      "image/png": "[encoded data removed]",
      "text/plain": [
       "<Figure size 720x576 with 1 Axes>"
      ]
     },
     "metadata": {
      "needs_background": "light"
     },
     "output_type": "display_data"
    }
   ],
   "source": [
    "X = ['2016','2017']\n",
    "X_axis = np.arange(len(X))\n",
    "plt.figure(figsize=(10,8))  \n",
    "plt.bar(X_axis - 0.2, (NewCustRev2016, NewCustRev2017), 0.4, label = 'New Customer Revenue')\n",
    "plt.bar(X_axis + 0.2, (TotRev2016, TotRev2017), 0.4, label = 'Total Revenue')\n",
    "  \n",
    "plt.xticks(X_axis, X)\n",
    "plt.xlabel(\"Years\")\n",
    "plt.ylabel(\"Revenue Earned\")\n",
    "plt.title(\"Total Revenue vs New Customer Revenue by Year\")\n",
    "plt.legend()\n",
    "plt.show()"
   ]
  },
  {
   "cell_type": "code",
   "execution_count": 92,
   "id": "4fe22d7e",
   "metadata": {},
   "outputs": [],
   "source": [
    "dfs = [CustOrders2015, CustOrders2016, CustOrders2017]\n",
    "df_common = reduce(lambda left,right: pd.merge(left,right,on='customer_email'), dfs)"
   ]
  },
  {
   "cell_type": "code",
   "execution_count": 93,
   "id": "4810bf37",
   "metadata": {},
   "outputs": [
    {
     "data": {
      "text/html": [
       "<div>\n",
       "<style scoped>\n",
       "    .dataframe tbody tr th:only-of-type {\n",
       "        vertical-align: middle;\n",
       "    }\n",
       "\n",
       "    .dataframe tbody tr th {\n",
       "        vertical-align: top;\n",
       "    }\n",
       "\n",
       "    .dataframe thead th {\n",
       "        text-align: right;\n",
       "    }\n",
       "</style>\n",
       "<table border=\"1\" class=\"dataframe\">\n",
       "  <thead>\n",
       "    <tr style=\"text-align: right;\">\n",
       "      <th></th>\n",
       "      <th>Unnamed: 0_x</th>\n",
       "      <th>customer_email</th>\n",
       "      <th>net_revenue_x</th>\n",
       "      <th>year_x</th>\n",
       "      <th>Unnamed: 0_y</th>\n",
       "      <th>net_revenue_y</th>\n",
       "      <th>year_y</th>\n",
       "      <th>Unnamed: 0</th>\n",
       "      <th>net_revenue</th>\n",
       "      <th>year</th>\n",
       "    </tr>\n",
       "  </thead>\n",
       "  <tbody>\n",
       "    <tr>\n",
       "      <th>0</th>\n",
       "      <td>16</td>\n",
       "      <td>hxshgpdxtr@gmail.com</td>\n",
       "      <td>180.59</td>\n",
       "      <td>2015</td>\n",
       "      <td>231310</td>\n",
       "      <td>217.35</td>\n",
       "      <td>2016</td>\n",
       "      <td>435956</td>\n",
       "      <td>178.10</td>\n",
       "      <td>2017</td>\n",
       "    </tr>\n",
       "    <tr>\n",
       "      <th>1</th>\n",
       "      <td>28</td>\n",
       "      <td>gipqsrvngd@gmail.com</td>\n",
       "      <td>122.71</td>\n",
       "      <td>2015</td>\n",
       "      <td>231322</td>\n",
       "      <td>156.06</td>\n",
       "      <td>2016</td>\n",
       "      <td>435968</td>\n",
       "      <td>172.90</td>\n",
       "      <td>2017</td>\n",
       "    </tr>\n",
       "    <tr>\n",
       "      <th>2</th>\n",
       "      <td>40</td>\n",
       "      <td>akwxtbjuki@gmail.com</td>\n",
       "      <td>246.79</td>\n",
       "      <td>2015</td>\n",
       "      <td>231334</td>\n",
       "      <td>113.27</td>\n",
       "      <td>2016</td>\n",
       "      <td>435980</td>\n",
       "      <td>8.78</td>\n",
       "      <td>2017</td>\n",
       "    </tr>\n",
       "    <tr>\n",
       "      <th>3</th>\n",
       "      <td>52</td>\n",
       "      <td>tcxbzksocq@gmail.com</td>\n",
       "      <td>79.72</td>\n",
       "      <td>2015</td>\n",
       "      <td>231346</td>\n",
       "      <td>162.06</td>\n",
       "      <td>2016</td>\n",
       "      <td>435992</td>\n",
       "      <td>126.54</td>\n",
       "      <td>2017</td>\n",
       "    </tr>\n",
       "    <tr>\n",
       "      <th>4</th>\n",
       "      <td>112</td>\n",
       "      <td>nfyvvsbdpy@gmail.com</td>\n",
       "      <td>187.65</td>\n",
       "      <td>2015</td>\n",
       "      <td>231406</td>\n",
       "      <td>223.20</td>\n",
       "      <td>2016</td>\n",
       "      <td>436052</td>\n",
       "      <td>209.39</td>\n",
       "      <td>2017</td>\n",
       "    </tr>\n",
       "    <tr>\n",
       "      <th>...</th>\n",
       "      <td>...</td>\n",
       "      <td>...</td>\n",
       "      <td>...</td>\n",
       "      <td>...</td>\n",
       "      <td>...</td>\n",
       "      <td>...</td>\n",
       "      <td>...</td>\n",
       "      <td>...</td>\n",
       "      <td>...</td>\n",
       "      <td>...</td>\n",
       "    </tr>\n",
       "    <tr>\n",
       "      <th>6157</th>\n",
       "      <td>204484</td>\n",
       "      <td>cmibmfamwl@gmail.com</td>\n",
       "      <td>15.03</td>\n",
       "      <td>2015</td>\n",
       "      <td>435778</td>\n",
       "      <td>192.99</td>\n",
       "      <td>2016</td>\n",
       "      <td>640424</td>\n",
       "      <td>151.74</td>\n",
       "      <td>2017</td>\n",
       "    </tr>\n",
       "    <tr>\n",
       "      <th>6158</th>\n",
       "      <td>204529</td>\n",
       "      <td>peigioihdi@gmail.com</td>\n",
       "      <td>132.18</td>\n",
       "      <td>2015</td>\n",
       "      <td>435823</td>\n",
       "      <td>142.87</td>\n",
       "      <td>2016</td>\n",
       "      <td>640469</td>\n",
       "      <td>174.19</td>\n",
       "      <td>2017</td>\n",
       "    </tr>\n",
       "    <tr>\n",
       "      <th>6159</th>\n",
       "      <td>204565</td>\n",
       "      <td>rirgqjcuss@gmail.com</td>\n",
       "      <td>165.29</td>\n",
       "      <td>2015</td>\n",
       "      <td>435859</td>\n",
       "      <td>206.67</td>\n",
       "      <td>2016</td>\n",
       "      <td>640505</td>\n",
       "      <td>155.62</td>\n",
       "      <td>2017</td>\n",
       "    </tr>\n",
       "    <tr>\n",
       "      <th>6160</th>\n",
       "      <td>204619</td>\n",
       "      <td>uelevgnrjb@gmail.com</td>\n",
       "      <td>20.83</td>\n",
       "      <td>2015</td>\n",
       "      <td>435913</td>\n",
       "      <td>54.76</td>\n",
       "      <td>2016</td>\n",
       "      <td>640559</td>\n",
       "      <td>117.55</td>\n",
       "      <td>2017</td>\n",
       "    </tr>\n",
       "    <tr>\n",
       "      <th>6161</th>\n",
       "      <td>204631</td>\n",
       "      <td>tpdtoiokyt@gmail.com</td>\n",
       "      <td>82.88</td>\n",
       "      <td>2015</td>\n",
       "      <td>435925</td>\n",
       "      <td>5.60</td>\n",
       "      <td>2016</td>\n",
       "      <td>640571</td>\n",
       "      <td>242.63</td>\n",
       "      <td>2017</td>\n",
       "    </tr>\n",
       "  </tbody>\n",
       "</table>\n",
       "<p>6162 rows × 10 columns</p>\n",
       "</div>"
      ],
      "text/plain": [
       "      Unnamed: 0_x        customer_email  net_revenue_x  year_x  Unnamed: 0_y  \\\n",
       "0               16  hxshgpdxtr@gmail.com         180.59    2015        231310   \n",
       "1               28  gipqsrvngd@gmail.com         122.71    2015        231322   \n",
       "2               40  akwxtbjuki@gmail.com         246.79    2015        231334   \n",
       "3               52  tcxbzksocq@gmail.com          79.72    2015        231346   \n",
       "4              112  nfyvvsbdpy@gmail.com         187.65    2015        231406   \n",
       "...            ...                   ...            ...     ...           ...   \n",
       "6157        204484  cmibmfamwl@gmail.com          15.03    2015        435778   \n",
       "6158        204529  peigioihdi@gmail.com         132.18    2015        435823   \n",
       "6159        204565  rirgqjcuss@gmail.com         165.29    2015        435859   \n",
       "6160        204619  uelevgnrjb@gmail.com          20.83    2015        435913   \n",
       "6161        204631  tpdtoiokyt@gmail.com          82.88    2015        435925   \n",
       "\n",
       "      net_revenue_y  year_y  Unnamed: 0  net_revenue  year  \n",
       "0            217.35    2016      435956       178.10  2017  \n",
       "1            156.06    2016      435968       172.90  2017  \n",
       "2            113.27    2016      435980         8.78  2017  \n",
       "3            162.06    2016      435992       126.54  2017  \n",
       "4            223.20    2016      436052       209.39  2017  \n",
       "...             ...     ...         ...          ...   ...  \n",
       "6157         192.99    2016      640424       151.74  2017  \n",
       "6158         142.87    2016      640469       174.19  2017  \n",
       "6159         206.67    2016      640505       155.62  2017  \n",
       "6160          54.76    2016      640559       117.55  2017  \n",
       "6161           5.60    2016      640571       242.63  2017  \n",
       "\n",
       "[6162 rows x 10 columns]"
      ]
     },
     "execution_count": 93,
     "metadata": {},
     "output_type": "execute_result"
    }
   ],
   "source": [
    "df_common"
   ]
  },
  {
   "cell_type": "code",
   "execution_count": 94,
   "id": "d39d18be",
   "metadata": {},
   "outputs": [],
   "source": [
    "LoyalCustRev2015 = df_common['net_revenue_x'].sum()\n",
    "LoyalCustRev2016 = df_common['net_revenue_y'].sum()\n",
    "LoyalCustRev2017 = df_common['net_revenue'].sum()"
   ]
  },
  {
   "cell_type": "code",
   "execution_count": 106,
   "id": "ce82f7f1",
   "metadata": {},
   "outputs": [
    {
     "name": "stderr",
     "output_type": "stream",
     "text": [
      "No artists with labels found to put in legend.  Note that artists whose label start with an underscore are ignored when legend() is called with no argument.\n"
     ]
    },
    {
     "data": {
      "image/png": "[encoded data removed]",
      "text/plain": [
       "<Figure size 720x576 with 1 Axes>"
      ]
     },
     "metadata": {
      "needs_background": "light"
     },
     "output_type": "display_data"
    }
   ],
   "source": [
    "X = ['2015', '2016','2017']\n",
    "\n",
    "plt.figure(figsize=(10,8)) \n",
    "plt.bar(X, (LoyalCustRev2015, LoyalCustRev2016, LoyalCustRev2017))\n",
    "\n",
    "plt.xlabel(\"Years\")\n",
    "plt.ylabel(\"Revenue Earned\")\n",
    "plt.title(\"Total Revenue from existing customer for 3 years by Year\")\n",
    "plt.legend()\n",
    "plt.show()"
   ]
  },
  {
   "cell_type": "code",
   "execution_count": 82,
   "id": "60b27f47",
   "metadata": {},
   "outputs": [
    {
     "data": {
      "text/html": [
       "<div>\n",
       "<style scoped>\n",
       "    .dataframe tbody tr th:only-of-type {\n",
       "        vertical-align: middle;\n",
       "    }\n",
       "\n",
       "    .dataframe tbody tr th {\n",
       "        vertical-align: top;\n",
       "    }\n",
       "\n",
       "    .dataframe thead th {\n",
       "        text-align: right;\n",
       "    }\n",
       "</style>\n",
       "<table border=\"1\" class=\"dataframe\">\n",
       "  <thead>\n",
       "    <tr style=\"text-align: right;\">\n",
       "      <th></th>\n",
       "      <th>Unnamed: 0</th>\n",
       "      <th>net_revenue</th>\n",
       "      <th>year</th>\n",
       "    </tr>\n",
       "  </thead>\n",
       "  <tbody>\n",
       "    <tr>\n",
       "      <th>count</th>\n",
       "      <td>231294.000000</td>\n",
       "      <td>231294.000000</td>\n",
       "      <td>231294.0</td>\n",
       "    </tr>\n",
       "    <tr>\n",
       "      <th>mean</th>\n",
       "      <td>115646.500000</td>\n",
       "      <td>125.540434</td>\n",
       "      <td>2015.0</td>\n",
       "    </tr>\n",
       "    <tr>\n",
       "      <th>std</th>\n",
       "      <td>66768.970918</td>\n",
       "      <td>71.793027</td>\n",
       "      <td>0.0</td>\n",
       "    </tr>\n",
       "    <tr>\n",
       "      <th>min</th>\n",
       "      <td>0.000000</td>\n",
       "      <td>1.000000</td>\n",
       "      <td>2015.0</td>\n",
       "    </tr>\n",
       "    <tr>\n",
       "      <th>25%</th>\n",
       "      <td>57823.250000</td>\n",
       "      <td>63.430000</td>\n",
       "      <td>2015.0</td>\n",
       "    </tr>\n",
       "    <tr>\n",
       "      <th>50%</th>\n",
       "      <td>115646.500000</td>\n",
       "      <td>125.655000</td>\n",
       "      <td>2015.0</td>\n",
       "    </tr>\n",
       "    <tr>\n",
       "      <th>75%</th>\n",
       "      <td>173469.750000</td>\n",
       "      <td>187.560000</td>\n",
       "      <td>2015.0</td>\n",
       "    </tr>\n",
       "    <tr>\n",
       "      <th>max</th>\n",
       "      <td>231293.000000</td>\n",
       "      <td>250.000000</td>\n",
       "      <td>2015.0</td>\n",
       "    </tr>\n",
       "  </tbody>\n",
       "</table>\n",
       "</div>"
      ],
      "text/plain": [
       "          Unnamed: 0    net_revenue      year\n",
       "count  231294.000000  231294.000000  231294.0\n",
       "mean   115646.500000     125.540434    2015.0\n",
       "std     66768.970918      71.793027       0.0\n",
       "min         0.000000       1.000000    2015.0\n",
       "25%     57823.250000      63.430000    2015.0\n",
       "50%    115646.500000     125.655000    2015.0\n",
       "75%    173469.750000     187.560000    2015.0\n",
       "max    231293.000000     250.000000    2015.0"
      ]
     },
     "execution_count": 82,
     "metadata": {},
     "output_type": "execute_result"
    }
   ],
   "source": [
    "CustOrders2015.describe()"
   ]
  },
  {
   "cell_type": "code",
   "execution_count": 83,
   "id": "bc3f5a80",
   "metadata": {},
   "outputs": [
    {
     "data": {
      "text/html": [
       "<div>\n",
       "<style scoped>\n",
       "    .dataframe tbody tr th:only-of-type {\n",
       "        vertical-align: middle;\n",
       "    }\n",
       "\n",
       "    .dataframe tbody tr th {\n",
       "        vertical-align: top;\n",
       "    }\n",
       "\n",
       "    .dataframe thead th {\n",
       "        text-align: right;\n",
       "    }\n",
       "</style>\n",
       "<table border=\"1\" class=\"dataframe\">\n",
       "  <thead>\n",
       "    <tr style=\"text-align: right;\">\n",
       "      <th></th>\n",
       "      <th>Unnamed: 0</th>\n",
       "      <th>net_revenue</th>\n",
       "      <th>year</th>\n",
       "    </tr>\n",
       "  </thead>\n",
       "  <tbody>\n",
       "    <tr>\n",
       "      <th>count</th>\n",
       "      <td>204646.000000</td>\n",
       "      <td>204646.000000</td>\n",
       "      <td>204646.0</td>\n",
       "    </tr>\n",
       "    <tr>\n",
       "      <th>mean</th>\n",
       "      <td>333616.500000</td>\n",
       "      <td>125.733919</td>\n",
       "      <td>2016.0</td>\n",
       "    </tr>\n",
       "    <tr>\n",
       "      <th>std</th>\n",
       "      <td>59076.355932</td>\n",
       "      <td>71.838149</td>\n",
       "      <td>0.0</td>\n",
       "    </tr>\n",
       "    <tr>\n",
       "      <th>min</th>\n",
       "      <td>231294.000000</td>\n",
       "      <td>1.000000</td>\n",
       "      <td>2016.0</td>\n",
       "    </tr>\n",
       "    <tr>\n",
       "      <th>25%</th>\n",
       "      <td>282455.250000</td>\n",
       "      <td>63.722500</td>\n",
       "      <td>2016.0</td>\n",
       "    </tr>\n",
       "    <tr>\n",
       "      <th>50%</th>\n",
       "      <td>333616.500000</td>\n",
       "      <td>125.760000</td>\n",
       "      <td>2016.0</td>\n",
       "    </tr>\n",
       "    <tr>\n",
       "      <th>75%</th>\n",
       "      <td>384777.750000</td>\n",
       "      <td>187.890000</td>\n",
       "      <td>2016.0</td>\n",
       "    </tr>\n",
       "    <tr>\n",
       "      <th>max</th>\n",
       "      <td>435939.000000</td>\n",
       "      <td>250.000000</td>\n",
       "      <td>2016.0</td>\n",
       "    </tr>\n",
       "  </tbody>\n",
       "</table>\n",
       "</div>"
      ],
      "text/plain": [
       "          Unnamed: 0    net_revenue      year\n",
       "count  204646.000000  204646.000000  204646.0\n",
       "mean   333616.500000     125.733919    2016.0\n",
       "std     59076.355932      71.838149       0.0\n",
       "min    231294.000000       1.000000    2016.0\n",
       "25%    282455.250000      63.722500    2016.0\n",
       "50%    333616.500000     125.760000    2016.0\n",
       "75%    384777.750000     187.890000    2016.0\n",
       "max    435939.000000     250.000000    2016.0"
      ]
     },
     "execution_count": 83,
     "metadata": {},
     "output_type": "execute_result"
    }
   ],
   "source": [
    "CustOrders2016.describe()"
   ]
  },
  {
   "cell_type": "code",
   "execution_count": 84,
   "id": "86a2874e",
   "metadata": {},
   "outputs": [
    {
     "data": {
      "text/html": [
       "<div>\n",
       "<style scoped>\n",
       "    .dataframe tbody tr th:only-of-type {\n",
       "        vertical-align: middle;\n",
       "    }\n",
       "\n",
       "    .dataframe tbody tr th {\n",
       "        vertical-align: top;\n",
       "    }\n",
       "\n",
       "    .dataframe thead th {\n",
       "        text-align: right;\n",
       "    }\n",
       "</style>\n",
       "<table border=\"1\" class=\"dataframe\">\n",
       "  <thead>\n",
       "    <tr style=\"text-align: right;\">\n",
       "      <th></th>\n",
       "      <th>Unnamed: 0</th>\n",
       "      <th>net_revenue</th>\n",
       "      <th>year</th>\n",
       "    </tr>\n",
       "  </thead>\n",
       "  <tbody>\n",
       "    <tr>\n",
       "      <th>count</th>\n",
       "      <td>231294.000000</td>\n",
       "      <td>231294.000000</td>\n",
       "      <td>231294.0</td>\n",
       "    </tr>\n",
       "    <tr>\n",
       "      <th>mean</th>\n",
       "      <td>115646.500000</td>\n",
       "      <td>125.540434</td>\n",
       "      <td>2015.0</td>\n",
       "    </tr>\n",
       "    <tr>\n",
       "      <th>std</th>\n",
       "      <td>66768.970918</td>\n",
       "      <td>71.793027</td>\n",
       "      <td>0.0</td>\n",
       "    </tr>\n",
       "    <tr>\n",
       "      <th>min</th>\n",
       "      <td>0.000000</td>\n",
       "      <td>1.000000</td>\n",
       "      <td>2015.0</td>\n",
       "    </tr>\n",
       "    <tr>\n",
       "      <th>25%</th>\n",
       "      <td>57823.250000</td>\n",
       "      <td>63.430000</td>\n",
       "      <td>2015.0</td>\n",
       "    </tr>\n",
       "    <tr>\n",
       "      <th>50%</th>\n",
       "      <td>115646.500000</td>\n",
       "      <td>125.655000</td>\n",
       "      <td>2015.0</td>\n",
       "    </tr>\n",
       "    <tr>\n",
       "      <th>75%</th>\n",
       "      <td>173469.750000</td>\n",
       "      <td>187.560000</td>\n",
       "      <td>2015.0</td>\n",
       "    </tr>\n",
       "    <tr>\n",
       "      <th>max</th>\n",
       "      <td>231293.000000</td>\n",
       "      <td>250.000000</td>\n",
       "      <td>2015.0</td>\n",
       "    </tr>\n",
       "  </tbody>\n",
       "</table>\n",
       "</div>"
      ],
      "text/plain": [
       "          Unnamed: 0    net_revenue      year\n",
       "count  231294.000000  231294.000000  231294.0\n",
       "mean   115646.500000     125.540434    2015.0\n",
       "std     66768.970918      71.793027       0.0\n",
       "min         0.000000       1.000000    2015.0\n",
       "25%     57823.250000      63.430000    2015.0\n",
       "50%    115646.500000     125.655000    2015.0\n",
       "75%    173469.750000     187.560000    2015.0\n",
       "max    231293.000000     250.000000    2015.0"
      ]
     },
     "execution_count": 84,
     "metadata": {},
     "output_type": "execute_result"
    }
   ],
   "source": [
    "CustOrders2015.describe()"
   ]
  },
  {
   "cell_type": "code",
   "execution_count": 107,
   "id": "32cb94ba",
   "metadata": {},
   "outputs": [
    {
     "data": {
      "text/plain": [
       "Text(0.5, 1.0, 'Net_revenue by Year')"
      ]
     },
     "execution_count": 107,
     "metadata": {},
     "output_type": "execute_result"
    },
    {
     "data": {
      "image/png": "[encoded data removed]",
      "text/plain": [
       "<Figure size 720x504 with 1 Axes>"
      ]
     },
     "metadata": {
      "needs_background": "light"
     },
     "output_type": "display_data"
    }
   ],
   "source": [
    "plt.figure(figsize=(10,7))\n",
    "sns.boxplot(x='year',y='net_revenue',data=CustOrders, palette='rainbow')\n",
    "plt.title(\"Net_revenue by Year\")"
   ]
  },
  {
   "cell_type": "code",
   "execution_count": 101,
   "id": "5c362127",
   "metadata": {},
   "outputs": [
    {
     "data": {
      "text/plain": [
       "10362"
      ]
     },
     "execution_count": 101,
     "metadata": {},
     "output_type": "execute_result"
    }
   ],
   "source": [
    "len(Growth2017[Growth2017['net_growth'] < 0])"
   ]
  },
  {
   "cell_type": "code",
   "execution_count": 102,
   "id": "2f5523c4",
   "metadata": {},
   "outputs": [
    {
     "data": {
      "text/plain": [
       "10595"
      ]
     },
     "execution_count": 102,
     "metadata": {},
     "output_type": "execute_result"
    }
   ],
   "source": [
    "len(Growth2017[Growth2017['net_growth'] > 0])"
   ]
  },
  {
   "cell_type": "code",
   "execution_count": 105,
   "id": "2c915168",
   "metadata": {},
   "outputs": [
    {
     "data": {
      "image/png": "[encoded data removed]",
      "text/plain": [
       "<Figure size 720x576 with 1 Axes>"
      ]
     },
     "metadata": {
      "needs_background": "light"
     },
     "output_type": "display_data"
    }
   ],
   "source": [
    "X = ['2016','2017']\n",
    "X_axis = np.arange(len(X))\n",
    "plt.figure(figsize=(10,8))  \n",
    "plt.bar(X_axis - 0.2, (len(Growth2017[Growth2017['net_growth'] > 0]), len(Growth2016[Growth2016['net_growth'] > 0])), 0.4, label = 'Customers who bought more than last year')\n",
    "plt.bar(X_axis + 0.2, (len(Growth2017[Growth2017['net_growth'] < 0]), len(Growth2016[Growth2016['net_growth'] < 0])), 0.4, label = 'Customers who bought less than last year')\n",
    "  \n",
    "plt.xticks(X_axis, X)\n",
    "plt.xlabel(\"Years\")\n",
    "plt.ylabel(\"Number of Customers\")\n",
    "plt.title(\"Growth over years\")\n",
    "plt.legend()\n",
    "plt.show()"
   ]
  },
  {
   "cell_type": "code",
   "execution_count": null,
   "id": "39fa5195",
   "metadata": {},
   "outputs": [],
   "source": []
  }
 ],
 "metadata": {
  "kernelspec": {
   "display_name": "Python 3 (ipykernel)",
   "language": "python",
   "name": "python3"
  },
  "language_info": {
   "codemirror_mode": {
    "name": "ipython",
    "version": 3
   },
   "file_extension": ".py",
   "mimetype": "text/x-python",
   "name": "python",
   "nbconvert_exporter": "python",
   "pygments_lexer": "ipython3",
   "version": "3.9.6"
  }
 },
 "nbformat": 4,
 "nbformat_minor": 5
}
